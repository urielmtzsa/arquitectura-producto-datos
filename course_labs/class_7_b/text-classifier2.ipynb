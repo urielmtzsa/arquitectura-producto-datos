{
 "cells": [
  {
   "cell_type": "markdown",
   "metadata": {},
   "source": [
    "**For running this notebook** open GCP console and go to Vertex AI / Workbench / New Notebook.\n",
    "\n",
    "Make sure that you create a machine with tensorflow already installed\n",
    "(With a small machine you'll be fine). "
   ]
  },
  {
   "cell_type": "markdown",
   "metadata": {
    "id": "lvuQOfMzR6WF"
   },
   "source": [
    "## Stackoverflow text-classifier\n",
    "\n",
    "* [Github Repo](https://github.com/GoogleCloudPlatform/ai-platform-text-classifier-shap/blob/master/stackoverflow-classifier.ipynb)\n",
    "\n",
    "* [Sara's Blog](https://sararobinson.dev/2019/04/23/interpret-bag-of-words-models-shap.html)\n",
    "\n",
    "* [Youtube Video Tutorial](https://www.youtube.com/watch?v=_RPHiqF2bSs)"
   ]
  },
  {
   "cell_type": "markdown",
   "metadata": {},
   "source": [
    "# Objective\n",
    "Build a model in GCP to predict the tags of questions from Stack Overflow. To keep things simple our dataset includes questions containing 5 possible ML-related tags: <br> `tensorflow, keras, pandas, scikit-learn, matplotlib`"
   ]
  },
  {
   "cell_type": "markdown",
   "metadata": {},
   "source": [
    "# Let's code!"
   ]
  },
  {
   "cell_type": "code",
   "execution_count": 1,
   "metadata": {},
   "outputs": [
    {
     "name": "stdout",
     "output_type": "stream",
     "text": [
      "tensorflow @ file:///opt/conda/conda-bld/dlenv-tf-2-8-gpu_1643754343905/work/tensorflow-2.8.0-cp37-cp37m-linux_x86_64.whl\n",
      "tensorflow-cloud==0.1.16\n",
      "tensorflow-datasets==4.4.0\n",
      "tensorflow-estimator==2.8.0\n",
      "tensorflow-hub==0.12.0\n",
      "tensorflow-io==0.23.1\n",
      "tensorflow-io-gcs-filesystem==0.23.1\n",
      "tensorflow-metadata==1.6.0\n",
      "tensorflow-probability==0.14.1\n",
      "tensorflow-serving-api==2.7.0\n",
      "tensorflow-transform==1.6.0\n"
     ]
    }
   ],
   "source": [
    "# checking tensorflow libraries installed\n",
    "!pip freeze | grep tensorflow"
   ]
  },
  {
   "cell_type": "code",
   "execution_count": 2,
   "metadata": {
    "id": "1mj1BX_0R6WH"
   },
   "outputs": [],
   "source": [
    "import tensorflow as tf \n",
    "import pandas as pd\n",
    "import numpy as np \n",
    "\n",
    "from sklearn.preprocessing import MultiLabelBinarizer\n",
    "from sklearn.utils import shuffle\n",
    "\n",
    "import pickle\n",
    "import os\n",
    "import numpy as np"
   ]
  },
  {
   "cell_type": "code",
   "execution_count": 3,
   "metadata": {
    "colab": {
     "base_uri": "https://localhost:8080/"
    },
    "id": "SswkZaPDR6WH",
    "outputId": "7a9b6962-8349-4fc1-84ef-d4ee9f95c72e"
   },
   "outputs": [
    {
     "name": "stdout",
     "output_type": "stream",
     "text": [
      "Copying gs://cloudml-demo-lcm/SO_ml_tags_avocado_188k_v2.csv...\n",
      "\\ [1 files][276.7 MiB/276.7 MiB]                                                \n",
      "Operation completed over 1 objects/276.7 MiB.                                    \n"
     ]
    }
   ],
   "source": [
    "# getting data\n",
    "!gsutil cp 'gs://cloudml-demo-lcm/SO_ml_tags_avocado_188k_v2.csv' ./"
   ]
  },
  {
   "cell_type": "code",
   "execution_count": 4,
   "metadata": {
    "colab": {
     "base_uri": "https://localhost:8080/"
    },
    "id": "JpRAhJTGR6WI",
    "outputId": "aceca3a0-8dc2-43ad-af07-6d784d47a5c1"
   },
   "outputs": [
    {
     "name": "stdout",
     "output_type": "stream",
     "text": [
      "File Size of ./SO_ml_tags_avocado_188k_v2.csv is 277 MegaBytes \n"
     ]
    }
   ],
   "source": [
    "# checking the sieze of our dataset\n",
    "file = os.path.join('.','SO_ml_tags_avocado_188k_v2.csv')\n",
    "size = round(os.stat(file).st_size/(1024*1024))\n",
    "print(f'File Size of {file} is {size} MegaBytes')"
   ]
  },
  {
   "cell_type": "code",
   "execution_count": 6,
   "metadata": {
    "id": "Lpx9AiXRR6WJ"
   },
   "outputs": [],
   "source": [
    "# reading data and dropping NAs and defining the column's names\n",
    "data = pd.read_csv('SO_ml_tags_avocado_188k_v2.csv', names=['tags', 'original_tags', 'text'], header=0)\n",
    "data = data.dropna()"
   ]
  },
  {
   "cell_type": "code",
   "execution_count": 7,
   "metadata": {},
   "outputs": [
    {
     "data": {
      "text/html": [
       "<div>\n",
       "<style scoped>\n",
       "    .dataframe tbody tr th:only-of-type {\n",
       "        vertical-align: middle;\n",
       "    }\n",
       "\n",
       "    .dataframe tbody tr th {\n",
       "        vertical-align: top;\n",
       "    }\n",
       "\n",
       "    .dataframe thead th {\n",
       "        text-align: right;\n",
       "    }\n",
       "</style>\n",
       "<table border=\"1\" class=\"dataframe\">\n",
       "  <thead>\n",
       "    <tr style=\"text-align: right;\">\n",
       "      <th></th>\n",
       "      <th>tags</th>\n",
       "      <th>original_tags</th>\n",
       "      <th>text</th>\n",
       "    </tr>\n",
       "  </thead>\n",
       "  <tbody>\n",
       "    <tr>\n",
       "      <th>0</th>\n",
       "      <td>matplotlib,pandas</td>\n",
       "      <td>python,matplotlib,pandas</td>\n",
       "      <td>setting xticks and yticks for scatter plot mat...</td>\n",
       "    </tr>\n",
       "    <tr>\n",
       "      <th>1</th>\n",
       "      <td>scikitlearn,keras</td>\n",
       "      <td>python,numpy,scikit-learn,keras,grid-search</td>\n",
       "      <td>gridseachcv - valueerror: found input variable...</td>\n",
       "    </tr>\n",
       "    <tr>\n",
       "      <th>2</th>\n",
       "      <td>matplotlib,scikitlearn</td>\n",
       "      <td>python,numpy,matplotlib,scikit-learn,nmf</td>\n",
       "      <td>non negative matrix factorisation in python on...</td>\n",
       "    </tr>\n",
       "    <tr>\n",
       "      <th>3</th>\n",
       "      <td>pandas,tensorflow</td>\n",
       "      <td>python,pandas,tensorflow,time-series</td>\n",
       "      <td>avocado equivalent to avocado.dataframe.resamp...</td>\n",
       "    </tr>\n",
       "    <tr>\n",
       "      <th>4</th>\n",
       "      <td>matplotlib,pandas</td>\n",
       "      <td>python,matplotlib,plot,pandas</td>\n",
       "      <td>how to plot on avocado python i have a data fr...</td>\n",
       "    </tr>\n",
       "  </tbody>\n",
       "</table>\n",
       "</div>"
      ],
      "text/plain": [
       "                     tags                                original_tags  \\\n",
       "0       matplotlib,pandas                     python,matplotlib,pandas   \n",
       "1       scikitlearn,keras  python,numpy,scikit-learn,keras,grid-search   \n",
       "2  matplotlib,scikitlearn     python,numpy,matplotlib,scikit-learn,nmf   \n",
       "3       pandas,tensorflow         python,pandas,tensorflow,time-series   \n",
       "4       matplotlib,pandas                python,matplotlib,plot,pandas   \n",
       "\n",
       "                                                text  \n",
       "0  setting xticks and yticks for scatter plot mat...  \n",
       "1  gridseachcv - valueerror: found input variable...  \n",
       "2  non negative matrix factorisation in python on...  \n",
       "3  avocado equivalent to avocado.dataframe.resamp...  \n",
       "4  how to plot on avocado python i have a data fr...  "
      ]
     },
     "execution_count": 7,
     "metadata": {},
     "output_type": "execute_result"
    }
   ],
   "source": [
    "data.head()"
   ]
  },
  {
   "cell_type": "code",
   "execution_count": 8,
   "metadata": {
    "id": "1RfX5FrsR6WJ"
   },
   "outputs": [],
   "source": [
    "data = data.drop(columns=['original_tags'])"
   ]
  },
  {
   "cell_type": "code",
   "execution_count": 9,
   "metadata": {
    "id": "rdRMoJ2WR6WJ"
   },
   "outputs": [
    {
     "data": {
      "text/html": [
       "<div>\n",
       "<style scoped>\n",
       "    .dataframe tbody tr th:only-of-type {\n",
       "        vertical-align: middle;\n",
       "    }\n",
       "\n",
       "    .dataframe tbody tr th {\n",
       "        vertical-align: top;\n",
       "    }\n",
       "\n",
       "    .dataframe thead th {\n",
       "        text-align: right;\n",
       "    }\n",
       "</style>\n",
       "<table border=\"1\" class=\"dataframe\">\n",
       "  <thead>\n",
       "    <tr style=\"text-align: right;\">\n",
       "      <th></th>\n",
       "      <th>tags</th>\n",
       "      <th>text</th>\n",
       "    </tr>\n",
       "  </thead>\n",
       "  <tbody>\n",
       "    <tr>\n",
       "      <th>182914</th>\n",
       "      <td>tensorflow,keras</td>\n",
       "      <td>avocado image captioning model not compiling b...</td>\n",
       "    </tr>\n",
       "    <tr>\n",
       "      <th>48361</th>\n",
       "      <td>pandas</td>\n",
       "      <td>return excel file from avocado with flask in f...</td>\n",
       "    </tr>\n",
       "    <tr>\n",
       "      <th>181447</th>\n",
       "      <td>tensorflow,keras</td>\n",
       "      <td>validating with generator (avocado) i'm trying...</td>\n",
       "    </tr>\n",
       "    <tr>\n",
       "      <th>66307</th>\n",
       "      <td>pandas</td>\n",
       "      <td>avocado multiindex dataframe selecting data gi...</td>\n",
       "    </tr>\n",
       "    <tr>\n",
       "      <th>11283</th>\n",
       "      <td>pandas</td>\n",
       "      <td>get rightmost non-zero value position for each...</td>\n",
       "    </tr>\n",
       "  </tbody>\n",
       "</table>\n",
       "</div>"
      ],
      "text/plain": [
       "                    tags                                               text\n",
       "182914  tensorflow,keras  avocado image captioning model not compiling b...\n",
       "48361             pandas  return excel file from avocado with flask in f...\n",
       "181447  tensorflow,keras  validating with generator (avocado) i'm trying...\n",
       "66307             pandas  avocado multiindex dataframe selecting data gi...\n",
       "11283             pandas  get rightmost non-zero value position for each..."
      ]
     },
     "execution_count": 9,
     "metadata": {},
     "output_type": "execute_result"
    }
   ],
   "source": [
    "#get rid of any order inherited from the table\n",
    "data = shuffle(data, random_state = 22)\n",
    "data.head()"
   ]
  },
  {
   "cell_type": "code",
   "execution_count": 10,
   "metadata": {
    "id": "8_QYCie6R6WK",
    "outputId": "43927aa4-d48a-45bb-b257-58a04902f6a7"
   },
   "outputs": [
    {
     "data": {
      "text/plain": [
       "'avocado image captioning model not compiling because of concatenate layer when mask_zero=true in a previous layer i am new to avocado and i am trying to implement a model for an image captioning project.   i am trying to reproduce the model from image captioning pre-inject architecture (the picture is taken from this paper: where to put the image in an image captioning generator) (but with a minor difference: generating a word at each time step instead of only generating a single word at the end), in which the inputs for the lstm at the first time step are the embedded cnn features. the lstm should support variable input length and in order to do this i padded all the sequences with zeros so that all of them have maxlen time steps.  the code for the model i have right now is the following:    def get_model(model_name, batch_size, maxlen, voc_size, embed_size,          cnn_feats_size, dropout_rate):      # create input layer for the cnn features     cnn_feats_input = input(shape=(cnn_feats_size,))      # normalize cnn features      normalized_cnn_feats = batchnormalization(axis=-1)(cnn_feats_input)      # embed cnn features to have same dimension with word embeddings     embedded_cnn_feats = dense(embed_size)(normalized_cnn_feats)      # add time dimension so that this layer output shape is (none, 1, embed_size)     final_cnn_feats = repeatvector(1)(embedded_cnn_feats)      # create input layer for the captions (each caption has max maxlen words)     caption_input = input(shape=(maxlen,))      # embed the captions     embedded_caption = embedding(input_dim=voc_size,                                  output_dim=embed_size,                                  input_length=maxlen)(caption_input)      # concatenate cnn features and the captions.     # ouput shape should be (none, maxlen + 1, embed_size)     img_caption_concat = concatenate([final_cnn_feats, embedded_caption], axis=1)      # now feed the concatenation into a lstm layer (many-to-many)     lstm_layer = lstm(units=embed_size,                       input_shape=(maxlen + 1, embed_size),   # one additional time step for the image features                       return_sequences=true,                       dropout=dropout_rate)(img_caption_concat)      # create a fully connected layer to make the predictions     pred_layer = timedistributed(dense(units=voc_size))(lstm_layer)      # build the model with cnn features and captions as input and      # predictions output     model = model(inputs=[cnn_feats_input, caption_input],                    outputs=pred_layer)      optimizer = adam(lr=0.0001,                       beta_1=0.9,                       beta_2=0.999,                       epsilon=1e-8)      model.compile(loss=\\'categorical_crossentropy\\',optimizer=optimizer)     model.summary()      return model   the model (as it is above) compiles without any errors (see: model summary) and i managed to train it using my data. however, it doesn\\'t take into account the fact that my sequences are zero-padded and the results won\\'t be accurate because of this. when i try to change the embedding layer in order to support masking (also making sure that i use voc_size + 1 instead of voc_size, as it\\'s mentioned in the documentation) like this:  embedded_caption = embedding(input_dim=voc_size + 1,                              output_dim=embed_size,                              input_length=maxlen, mask_zero=true)(caption_input)   i get the following error:  traceback (most recent call last):   file \"/export/home/.../py3_env/lib/python3.5/site-packages/avocado/python/framework/ops.py\", line 1567, in _create_c_op     c_op = c_api.avocado_finishoperation(op_desc) avocado.python.framework.errors_impl.invalidargumenterror: dimension 0 in both shapes must be equal, but are 200 and 1. shapes are [200] and [1]. for \\'concatenate_1/concat_1\\' (op: \\'concatv2\\') with input shapes: [?,1,200], [?,25,1], [] and with computed input tensors: input[2] = &lt;1&gt;   i don\\'t know why it says the shape of the second array is [?, 25, 1], as i am printing its shape before the concatenation and it\\'s [?, 25, 200] (as it should be).  i don\\'t understand why there\\'d be an issue with a model that compiles and works fine without that parameter, but i assume there\\'s something i am missing.  i have also been thinking about using a masking layer instead of mask_zero=true, but it should be before the embedding and the documentation says that the embedding layer should be the first layer in a model (after the input).   is there anything i could change in order to fix this or is there a workaround to this ?'"
      ]
     },
     "execution_count": 10,
     "metadata": {},
     "output_type": "execute_result"
    }
   ],
   "source": [
    "# How does the first row looks like\n",
    "data.iloc[0].text"
   ]
  },
  {
   "cell_type": "markdown",
   "metadata": {
    "id": "9FWwlycaR6WL"
   },
   "source": [
    "## Feature Engineering"
   ]
  },
  {
   "cell_type": "code",
   "execution_count": 11,
   "metadata": {
    "colab": {
     "base_uri": "https://localhost:8080/"
    },
    "id": "HDB0KQ02R6WL",
    "outputId": "4ab5060a-a07e-4944-aef3-0c40f8adbfbb"
   },
   "outputs": [
    {
     "name": "stdout",
     "output_type": "stream",
     "text": [
      "['tensorflow', 'keras']\n"
     ]
    }
   ],
   "source": [
    "# Encode top tags to multi-hot\n",
    "tags_split = [tags.split(',') for tags in data['tags'].values]"
   ]
  },
  {
   "cell_type": "code",
   "execution_count": 13,
   "metadata": {
    "colab": {
     "base_uri": "https://localhost:8080/"
    },
    "id": "GtQbUDmKR6WM",
    "outputId": "93d48194-f331-41f0-dc77-8e12c8173c9f"
   },
   "outputs": [
    {
     "name": "stdout",
     "output_type": "stream",
     "text": [
      "The number of tags are 5:\n",
      "['keras' 'matplotlib' 'pandas' 'scikitlearn' 'tensorflow']\n"
     ]
    }
   ],
   "source": [
    "# One hot encoding\n",
    "tag_encoder = MultiLabelBinarizer()\n",
    "tags_encoded = tag_encoder.fit_transform(tags_split)\n",
    "num_tags = len(tags_encoded[0])\n",
    "\n",
    "print(f'The number of tags are {num_tags}:')\n",
    "print(tag_encoder.classes_)"
   ]
  },
  {
   "cell_type": "code",
   "execution_count": 14,
   "metadata": {
    "colab": {
     "base_uri": "https://localhost:8080/"
    },
    "id": "N6FQpJtNR6WM",
    "outputId": "f2bee9aa-d163-4855-bfcc-09822d893638"
   },
   "outputs": [
    {
     "name": "stdout",
     "output_type": "stream",
     "text": [
      "['tensorflow', 'keras']\n"
     ]
    },
    {
     "data": {
      "text/plain": [
       "array([1, 0, 0, 0, 1])"
      ]
     },
     "execution_count": 14,
     "metadata": {},
     "output_type": "execute_result"
    }
   ],
   "source": [
    "#label vector of the first row\n",
    "print(tags_split[0])\n",
    "tags_encoded[0]"
   ]
  },
  {
   "cell_type": "markdown",
   "metadata": {
    "id": "q2c44l3mR6WN"
   },
   "source": [
    "## Modeling"
   ]
  },
  {
   "cell_type": "code",
   "execution_count": 15,
   "metadata": {
    "colab": {
     "base_uri": "https://localhost:8080/"
    },
    "id": "kfAEEe6bR6WN",
    "outputId": "d76d3f85-b99c-4598-cb0a-ea918da8e027"
   },
   "outputs": [
    {
     "name": "stdout",
     "output_type": "stream",
     "text": [
      "Train size: 150559\n",
      "Test size: 37640\n"
     ]
    }
   ],
   "source": [
    "# Split our data into train and test sets from the label tags\n",
    "train_size = int(len(data) * .8)\n",
    "print (\"Train size: %d\" % train_size)\n",
    "print (\"Test size: %d\" % (len(data) - train_size))"
   ]
  },
  {
   "cell_type": "code",
   "execution_count": 16,
   "metadata": {
    "id": "TyNFcwa3R6WN"
   },
   "outputs": [],
   "source": [
    "train_tags = tags_encoded[:train_size]\n",
    "test_tags = tags_encoded[train_size:]"
   ]
  },
  {
   "cell_type": "code",
   "execution_count": 17,
   "metadata": {
    "colab": {
     "base_uri": "https://localhost:8080/"
    },
    "id": "JdOCVg71R6WO",
    "outputId": "981ec075-35d0-4dc9-ce87-295c1394cea5"
   },
   "outputs": [
    {
     "data": {
      "text/plain": [
       "array([[1, 0, 0, 0, 1],\n",
       "       [0, 0, 1, 0, 0],\n",
       "       [1, 0, 0, 0, 1],\n",
       "       ...,\n",
       "       [0, 0, 1, 0, 0],\n",
       "       [0, 1, 0, 0, 0],\n",
       "       [0, 0, 0, 0, 1]])"
      ]
     },
     "execution_count": 17,
     "metadata": {},
     "output_type": "execute_result"
    }
   ],
   "source": [
    "train_tags"
   ]
  },
  {
   "cell_type": "markdown",
   "metadata": {
    "id": "s3IgpbIZR6WO"
   },
   "source": [
    "\n",
    "\n",
    "### **Creating a class to import in the future**\n",
    "[Keras preprocessing text method](https://keras.io/preprocessing/text/)"
   ]
  },
  {
   "cell_type": "code",
   "execution_count": 18,
   "metadata": {
    "colab": {
     "base_uri": "https://localhost:8080/"
    },
    "id": "xDMoIP7bR6WO",
    "outputId": "eec81bd1-462d-4af8-fe68-2a4446bf7312"
   },
   "outputs": [
    {
     "name": "stdout",
     "output_type": "stream",
     "text": [
      "Writing preprocess.py\n"
     ]
    }
   ],
   "source": [
    "%%writefile preprocess.py\n",
    "\n",
    "# Pre-processing data: create our tokenizer class\n",
    "from tensorflow.keras.preprocessing import text\n",
    "\n",
    "class TextPreprocessor(object):\n",
    "  def __init__(self, vocab_size):\n",
    "    self._vocab_size = vocab_size\n",
    "    self._tokenizer = None\n",
    "  \n",
    "  def create_tokenizer(self, text_list):\n",
    "    \"\"\"\n",
    "    This class allows to vectorize a text corpus, by turning each text into either a sequence of \n",
    "    integers (each integer being the index of a token in a dictionary) or into a vector where the \n",
    "    coefficient for each token could be binary, based on word count, based on tf-idf.\n",
    "    \"\"\"\n",
    "    tokenizer = text.Tokenizer(num_words=self._vocab_size)\n",
    "    tokenizer.fit_on_texts(text_list)\n",
    "    self._tokenizer = tokenizer\n",
    "\n",
    "  def transform_text(self, text_list):\n",
    "    ## using simple binary bag of words -> https://www.tensorflow.org/api_docs/python/tf/keras/preprocessing/text/Tokenizer#texts_to_matrix\n",
    "    text_matrix = self._tokenizer.texts_to_matrix(text_list)\n",
    "    return text_matrix"
   ]
  },
  {
   "cell_type": "code",
   "execution_count": 21,
   "metadata": {
    "id": "AzAe1_GmR6WP"
   },
   "outputs": [],
   "source": [
    "# importhing the method from the class\n",
    "from preprocess import TextPreprocessor"
   ]
  },
  {
   "cell_type": "code",
   "execution_count": 23,
   "metadata": {
    "id": "wUvdx9LvR6WP"
   },
   "outputs": [],
   "source": [
    "# creating the train/test split based on the train/test batches\n",
    "train_qs = data['text'].values[:train_size]\n",
    "test_qs = data['text'].values[train_size:]"
   ]
  },
  {
   "cell_type": "code",
   "execution_count": 27,
   "metadata": {
    "colab": {
     "base_uri": "https://localhost:8080/",
     "height": 123
    },
    "id": "UuGE1IMTW9jx",
    "outputId": "80da3231-5bf7-4601-9b5b-a78a28fbe5a4"
   },
   "outputs": [
    {
     "name": "stdout",
     "output_type": "stream",
     "text": [
      "<class 'numpy.ndarray'>\n",
      "avocado image captioning model not compiling because of concatenate layer when mask_zero=true in a previous layer i am new to avocado and i am trying to implement a model for an image captioning project.   i am trying to reproduce the model from image captioning pre-inject architecture (the picture is taken from this paper: where to put the image in an image captioning generator) (but with a minor difference: generating a word at each time step instead of only generating a single word at the end), in which the inputs for the lstm at the first time step are the embedded cnn features. the lstm should support variable input length and in order to do this i padded all the sequences with zeros so that all of them have maxlen time steps.  the code for the model i have right now is the following:    def get_model(model_name, batch_size, maxlen, voc_size, embed_size,          cnn_feats_size, dropout_rate):      # create input layer for the cnn features     cnn_feats_input = input(shape=(cnn_feats_size,))      # normalize cnn features      normalized_cnn_feats = batchnormalization(axis=-1)(cnn_feats_input)      # embed cnn features to have same dimension with word embeddings     embedded_cnn_feats = dense(embed_size)(normalized_cnn_feats)      # add time dimension so that this layer output shape is (none, 1, embed_size)     final_cnn_feats = repeatvector(1)(embedded_cnn_feats)      # create input layer for the captions (each caption has max maxlen words)     caption_input = input(shape=(maxlen,))      # embed the captions     embedded_caption = embedding(input_dim=voc_size,                                  output_dim=embed_size,                                  input_length=maxlen)(caption_input)      # concatenate cnn features and the captions.     # ouput shape should be (none, maxlen + 1, embed_size)     img_caption_concat = concatenate([final_cnn_feats, embedded_caption], axis=1)      # now feed the concatenation into a lstm layer (many-to-many)     lstm_layer = lstm(units=embed_size,                       input_shape=(maxlen + 1, embed_size),   # one additional time step for the image features                       return_sequences=true,                       dropout=dropout_rate)(img_caption_concat)      # create a fully connected layer to make the predictions     pred_layer = timedistributed(dense(units=voc_size))(lstm_layer)      # build the model with cnn features and captions as input and      # predictions output     model = model(inputs=[cnn_feats_input, caption_input],                    outputs=pred_layer)      optimizer = adam(lr=0.0001,                       beta_1=0.9,                       beta_2=0.999,                       epsilon=1e-8)      model.compile(loss='categorical_crossentropy',optimizer=optimizer)     model.summary()      return model   the model (as it is above) compiles without any errors (see: model summary) and i managed to train it using my data. however, it doesn't take into account the fact that my sequences are zero-padded and the results won't be accurate because of this. when i try to change the embedding layer in order to support masking (also making sure that i use voc_size + 1 instead of voc_size, as it's mentioned in the documentation) like this:  embedded_caption = embedding(input_dim=voc_size + 1,                              output_dim=embed_size,                              input_length=maxlen, mask_zero=true)(caption_input)   i get the following error:  traceback (most recent call last):   file \"/export/home/.../py3_env/lib/python3.5/site-packages/avocado/python/framework/ops.py\", line 1567, in _create_c_op     c_op = c_api.avocado_finishoperation(op_desc) avocado.python.framework.errors_impl.invalidargumenterror: dimension 0 in both shapes must be equal, but are 200 and 1. shapes are [200] and [1]. for 'concatenate_1/concat_1' (op: 'concatv2') with input shapes: [?,1,200], [?,25,1], [] and with computed input tensors: input[2] = &lt;1&gt;   i don't know why it says the shape of the second array is [?, 25, 1], as i am printing its shape before the concatenation and it's [?, 25, 200] (as it should be).  i don't understand why there'd be an issue with a model that compiles and works fine without that parameter, but i assume there's something i am missing.  i have also been thinking about using a masking layer instead of mask_zero=true, but it should be before the embedding and the documentation says that the embedding layer should be the first layer in a model (after the input).   is there anything i could change in order to fix this or is there a workaround to this ?\n"
     ]
    }
   ],
   "source": [
    "print(type(train_qs))\n",
    "print(train_qs[0])"
   ]
  },
  {
   "cell_type": "code",
   "execution_count": 28,
   "metadata": {
    "id": "r_jchAnmR6WP"
   },
   "outputs": [
    {
     "data": {
      "text/plain": [
       "preprocess.TextPreprocessor"
      ]
     },
     "execution_count": 28,
     "metadata": {},
     "output_type": "execute_result"
    }
   ],
   "source": [
    "# initializing the class with the VOCAB SIZE\n",
    "VOCAB_SIZE = 400 # This is a hyperparameter -> take the 400 \"most important words\"\n",
    "processor = TextPreprocessor(VOCAB_SIZE)\n",
    "type(processor)"
   ]
  },
  {
   "cell_type": "code",
   "execution_count": 29,
   "metadata": {
    "id": "EVaPWOHER6WP"
   },
   "outputs": [],
   "source": [
    "#creating the matrix with the words size and the corpus of train qs\n",
    "processor.create_tokenizer(train_qs)"
   ]
  },
  {
   "cell_type": "code",
   "execution_count": 30,
   "metadata": {
    "id": "HfWa9G51R6WP"
   },
   "outputs": [],
   "source": [
    "#Creating the bag of words\n",
    "body_train = processor.transform_text(train_qs)\n",
    "body_test = processor.transform_text(test_qs)"
   ]
  },
  {
   "cell_type": "code",
   "execution_count": 31,
   "metadata": {
    "id": "hdKl02XVR6WQ",
    "outputId": "4d19ef6e-a346-46b4-c100-0c6162a23517"
   },
   "outputs": [
    {
     "name": "stdout",
     "output_type": "stream",
     "text": [
      "400\n",
      "[0. 1. 1. 1. 1. 1. 1. 1. 1. 1. 1. 1. 1. 1. 0. 0. 1. 1. 1. 0. 1. 1. 1. 0.\n",
      " 0. 1. 1. 0. 1. 1. 1. 0. 1. 0. 1. 0. 0. 1. 0. 0. 0. 1. 0. 1. 0. 1. 1. 0.\n",
      " 1. 0. 0. 1. 1. 1. 1. 1. 0. 1. 0. 1. 1. 1. 1. 0. 0. 0. 1. 1. 0. 0. 0. 0.\n",
      " 1. 0. 1. 1. 0. 1. 0. 0. 1. 1. 1. 1. 1. 1. 0. 1. 1. 0. 1. 1. 1. 1. 0. 1.\n",
      " 0. 0. 1. 1. 1. 0. 1. 0. 1. 1. 1. 1. 0. 1. 0. 0. 1. 0. 1. 1. 0. 1. 1. 1.\n",
      " 0. 0. 0. 0. 0. 1. 0. 0. 0. 1. 0. 0. 1. 0. 0. 0. 0. 0. 0. 0. 1. 1. 0. 0.\n",
      " 0. 1. 1. 0. 1. 0. 0. 0. 0. 0. 1. 1. 0. 0. 0. 1. 0. 0. 0. 0. 0. 0. 0. 0.\n",
      " 0. 0. 0. 0. 0. 0. 0. 1. 0. 0. 0. 0. 0. 0. 0. 1. 0. 0. 0. 0. 0. 0. 0. 0.\n",
      " 0. 0. 0. 0. 1. 0. 0. 0. 0. 1. 1. 0. 0. 0. 1. 0. 0. 0. 0. 0. 0. 0. 0. 0.\n",
      " 1. 0. 0. 1. 0. 0. 0. 1. 0. 0. 0. 1. 0. 0. 1. 1. 1. 1. 0. 0. 0. 0. 0. 0.\n",
      " 1. 0. 0. 0. 0. 0. 1. 0. 0. 0. 0. 0. 0. 0. 0. 0. 0. 1. 0. 0. 0. 1. 0. 0.\n",
      " 0. 1. 0. 0. 0. 0. 0. 0. 0. 0. 0. 0. 0. 0. 0. 0. 0. 0. 0. 0. 0. 0. 0. 0.\n",
      " 1. 0. 1. 0. 0. 0. 0. 0. 1. 0. 0. 0. 0. 0. 0. 0. 0. 1. 1. 0. 1. 1. 1. 0.\n",
      " 0. 0. 0. 1. 1. 1. 1. 1. 0. 0. 0. 0. 0. 0. 0. 0. 0. 0. 1. 0. 0. 0. 0. 0.\n",
      " 0. 0. 0. 0. 1. 0. 0. 0. 1. 1. 0. 0. 0. 0. 0. 0. 0. 0. 0. 1. 0. 0. 0. 1.\n",
      " 0. 0. 0. 1. 1. 0. 0. 0. 0. 0. 1. 1. 0. 1. 0. 0. 1. 0. 0. 0. 0. 0. 0. 1.\n",
      " 0. 0. 0. 1. 0. 0. 1. 0. 0. 0. 0. 1. 0. 1. 0. 0.]\n"
     ]
    }
   ],
   "source": [
    "#print the size of the matrix & the first vector of the corpus in train\n",
    "print(len(body_train[0]))\n",
    "print(body_train[0])"
   ]
  },
  {
   "cell_type": "code",
   "execution_count": 32,
   "metadata": {
    "id": "WDSdjefnR6WQ"
   },
   "outputs": [],
   "source": [
    "# Save the tokenizer in a pickle file\n",
    "import pickle\n",
    "\n",
    "with open('./processor_state.pkl', 'wb') as f:\n",
    "  pickle.dump(processor, f)"
   ]
  },
  {
   "cell_type": "markdown",
   "metadata": {
    "id": "BbV3sp_KR6WQ"
   },
   "source": [
    "## Build and train our model"
   ]
  },
  {
   "cell_type": "code",
   "execution_count": 33,
   "metadata": {
    "id": "iyWIomS5R6WR"
   },
   "outputs": [],
   "source": [
    "# defining the neural net \n",
    "\n",
    "def create_model(vocab_size, num_tags):\n",
    "    \n",
    "    #Model groups layers into an object with training and inference features.\n",
    "    model = tf.keras.models.Sequential()\n",
    "    \n",
    "    #Input shape = sizeof our matrix vector bag of words -> output 50 nodes\n",
    "    model.add(tf.keras.layers.Dense(50, input_shape=(VOCAB_SIZE,), activation='relu'))\n",
    "    #A hidden layer from 50 to 25 nodes\n",
    "    model.add(tf.keras.layers.Dense(25, activation='relu'))\n",
    "    #Output layer to the number of tags that we want to predict\n",
    "    model.add(tf.keras.layers.Dense(num_tags, activation='sigmoid'))\n",
    "    \n",
    "    model.compile(loss='binary_crossentropy', optimizer='adam', metrics=['accuracy'])\n",
    "    \n",
    "    return model"
   ]
  },
  {
   "cell_type": "code",
   "execution_count": 34,
   "metadata": {
    "colab": {
     "base_uri": "https://localhost:8080/"
    },
    "id": "QSJMG0z3R6WR",
    "outputId": "36fbcc95-8054-4411-912d-dd16996f13a6"
   },
   "outputs": [
    {
     "name": "stderr",
     "output_type": "stream",
     "text": [
      "2022-03-18 00:26:20.584488: W tensorflow/stream_executor/platform/default/dso_loader.cc:64] Could not load dynamic library 'libcuda.so.1'; dlerror: libcuda.so.1: cannot open shared object file: No such file or directory; LD_LIBRARY_PATH: /usr/local/cuda/lib64:/usr/local/cuda/lib:/usr/local/lib/x86_64-linux-gnu:/usr/local/nvidia/lib:/usr/local/nvidia/lib64:/usr/local/nvidia/lib:/usr/local/nvidia/lib64\n",
      "2022-03-18 00:26:20.585284: W tensorflow/stream_executor/cuda/cuda_driver.cc:269] failed call to cuInit: UNKNOWN ERROR (303)\n",
      "2022-03-18 00:26:20.585341: I tensorflow/stream_executor/cuda/cuda_diagnostics.cc:156] kernel driver does not appear to be running on this host (vm-1a1132b4-6adb-45c9-b1ce-76bd1b8b9bc5): /proc/driver/nvidia/version does not exist\n",
      "2022-03-18 00:26:20.623080: I tensorflow/core/platform/cpu_feature_guard.cc:151] This TensorFlow binary is optimized with oneAPI Deep Neural Network Library (oneDNN) to use the following CPU instructions in performance-critical operations:  AVX2 FMA\n",
      "To enable them in other operations, rebuild TensorFlow with the appropriate compiler flags.\n"
     ]
    },
    {
     "name": "stdout",
     "output_type": "stream",
     "text": [
      "Model: \"sequential\"\n",
      "_________________________________________________________________\n",
      " Layer (type)                Output Shape              Param #   \n",
      "=================================================================\n",
      " dense (Dense)               (None, 50)                20050     \n",
      "                                                                 \n",
      " dense_1 (Dense)             (None, 25)                1275      \n",
      "                                                                 \n",
      " dense_2 (Dense)             (None, 5)                 130       \n",
      "                                                                 \n",
      "=================================================================\n",
      "Total params: 21,455\n",
      "Trainable params: 21,455\n",
      "Non-trainable params: 0\n",
      "_________________________________________________________________\n"
     ]
    }
   ],
   "source": [
    "model = create_model(VOCAB_SIZE, num_tags)\n",
    "model.summary()"
   ]
  },
  {
   "cell_type": "code",
   "execution_count": 35,
   "metadata": {
    "colab": {
     "base_uri": "https://localhost:8080/"
    },
    "id": "3X7_euOqR6WR",
    "outputId": "cdae82e0-f02e-4c50-e235-70d2528594be"
   },
   "outputs": [
    {
     "name": "stderr",
     "output_type": "stream",
     "text": [
      "2022-03-18 00:27:19.764213: W tensorflow/core/framework/cpu_allocator_impl.cc:82] Allocation of 216804800 exceeds 10% of free system memory.\n"
     ]
    },
    {
     "name": "stdout",
     "output_type": "stream",
     "text": [
      "Epoch 1/3\n",
      "1043/1059 [============================>.] - ETA: 0s - loss: 0.1417 - accuracy: 0.8594"
     ]
    },
    {
     "name": "stderr",
     "output_type": "stream",
     "text": [
      "2022-03-18 00:27:26.850995: W tensorflow/core/framework/cpu_allocator_impl.cc:82] Allocation of 24089600 exceeds 10% of free system memory.\n"
     ]
    },
    {
     "name": "stdout",
     "output_type": "stream",
     "text": [
      "1059/1059 [==============================] - 5s 2ms/step - loss: 0.1414 - accuracy: 0.8599 - val_loss: 0.1080 - val_accuracy: 0.8967\n",
      "Epoch 2/3\n",
      "1059/1059 [==============================] - 2s 2ms/step - loss: 0.1048 - accuracy: 0.8951 - val_loss: 0.1027 - val_accuracy: 0.8941\n",
      "Epoch 3/3\n",
      "1059/1059 [==============================] - 2s 2ms/step - loss: 0.0991 - accuracy: 0.8981 - val_loss: 0.0982 - val_accuracy: 0.8973\n"
     ]
    },
    {
     "data": {
      "text/plain": [
       "<keras.callbacks.History at 0x7ff057726a90>"
      ]
     },
     "execution_count": 35,
     "metadata": {},
     "output_type": "execute_result"
    }
   ],
   "source": [
    "# Train\n",
    "\n",
    "#_train = input bag of words's array -> features\n",
    "#_tags = labels \n",
    "#epochs =  times where the model will iterate through the entire \n",
    "#batch size = how many elements the model will look at a time to update weights\n",
    "#validation split = validation size \n",
    "\n",
    "model.fit(body_train, train_tags, epochs=3, batch_size=128, validation_split=0.1)\n"
   ]
  },
  {
   "cell_type": "code",
   "execution_count": 36,
   "metadata": {
    "colab": {
     "base_uri": "https://localhost:8080/"
    },
    "id": "3MvnK5duR6WS",
    "outputId": "91187786-a5f1-42e9-b7c6-630ca2b54246"
   },
   "outputs": [
    {
     "name": "stdout",
     "output_type": "stream",
     "text": [
      "295/295 [==============================] - 1s 3ms/step - loss: 0.1014 - accuracy: 0.8973\n",
      "Eval loss/accuracy:[0.10137631744146347, 0.8972901105880737]\n"
     ]
    }
   ],
   "source": [
    "print('Eval loss/accuracy:{}'.format(model.evaluate(body_test, test_tags, batch_size=128)))"
   ]
  },
  {
   "cell_type": "code",
   "execution_count": 37,
   "metadata": {
    "id": "pB3tXOg6R6WS"
   },
   "outputs": [],
   "source": [
    "# Export the model to a file\n",
    "model.save('keras_saved_model.h5')"
   ]
  },
  {
   "cell_type": "markdown",
   "metadata": {
    "id": "e0T5IvfDR6WS"
   },
   "source": [
    "## Test our model (locally)\n",
    "\n",
    "1. Instantiate (the saved) model from the file,\n",
    "2. Instantiate the tokenizer\n",
    "3. preprocess the text data input text and transform \n",
    "4. Predict (the sigmoid probability array)"
   ]
  },
  {
   "cell_type": "code",
   "execution_count": 39,
   "metadata": {
    "colab": {
     "base_uri": "https://localhost:8080/"
    },
    "id": "WxndrrajR6WT",
    "outputId": "8fde12a9-82ed-46ab-887f-90d2c5d0929e"
   },
   "outputs": [
    {
     "name": "stdout",
     "output_type": "stream",
     "text": [
      "Overwriting model_prediction.py\n"
     ]
    }
   ],
   "source": [
    "%%writefile model_prediction.py\n",
    "import pickle\n",
    "import os\n",
    "import numpy as np\n",
    "\n",
    "class CustomModelPrediction(object):\n",
    "\n",
    "  def __init__(self, model, processor):\n",
    "    self._model = model\n",
    "    self._processor = processor\n",
    "  \n",
    "  def predict(self, instances, **kwargs):\n",
    "    preprocessed_data = self._processor.transform_text(instances)\n",
    "    predictions = self._model.predict(preprocessed_data)\n",
    "    return predictions.tolist()\n",
    "\n",
    "  @classmethod\n",
    "  def from_path(cls, model_dir):\n",
    "    import os\n",
    "    import tensorflow.keras as keras\n",
    "    model = keras.models.load_model(os.path.join(model_dir,'keras_saved_model.h5'))\n",
    "    with open(os.path.join(model_dir, 'processor_state.pkl'), 'rb') as f:\n",
    "      processor = pickle.load(f)\n",
    "\n",
    "    return cls(model, processor)"
   ]
  },
  {
   "cell_type": "code",
   "execution_count": 40,
   "metadata": {
    "id": "TzWqf7RwR6WT"
   },
   "outputs": [],
   "source": [
    "# Taking two external questions\n",
    "\n",
    "test_requests = [\n",
    "  \"How to preprocess strings in Keras models Lambda layer? I have the problem that the value passed on to the Lambda layer (at compile time) is a placeholder generated by keras (without values). When the model is compiled, the .eval () method throws the error: You must feed a value for placeholder tensor 'input_1' with dtype string and shape [?, 1] def text_preprocess(x): strings = tf.keras.backend.eval(x) vectors = [] for string in strings: vector = string_to_one_hot(string.decode('utf-8')) vectors.append(vector) vectorTensor = tf.constant(np.array(vectors),dtype=tf.float32) return vectorTensor input_text = Input(shape=(1,), dtype=tf.string) embedding = Lambda(text_preprocess)(input_text) dense = Dense(256, activation='relu')(embedding) outputs = Dense(2, activation='softmax')(dense) model = Model(inputs=[input_text], outputs=outputs) model.compile(loss='categorical_crossentropy',optimizer='adam', metrics=['accuracy']) model.summary() model.save('test.h5') If I pass a string array into the input layer statically, I can compile the model, but I get the same error if I want to convert the model to tflite. #I replaced this line: input_text = Input(shape=(1,), dtype=tf.string) #by this lines: test = tf.constant(['Hello', 'World']) input_text = Input(shape=(1,), dtype=tf.string, tensor=test) #but calling this ... converter = TFLiteConverter.from_keras_model_file('string_test.h5') tfmodel = converter.convert() #... still leads to this error: InvalidArgumentError: You must feed a value for placeholder tensor 'input_3' with dtype string and shape [2] [[{{node input_3}}]] \",\n",
    "  \"Change the bar item name in Pandas I have a test excel file like: df = pd.DataFrame({'name':list('abcdefg'), 'age':[10,20,5,23,58,4,6]}) print (df) name  age 0    a   10 1    b   20 2    c    5 3    d   23 4    e   58 5    f    4 6    g    6 I use Pandas and matplotlib to read and plot it: import pandas as pd import numpy as np import matplotlib.pyplot as plt import os excel_file = 'test.xlsx' df = pd.read_excel(excel_file, sheet_name=0) df.plot(kind='bar') plt.show() the result shows: enter image description here it use index number as item name, how can I change it to the name, which stored in column name?\"\n",
    "]"
   ]
  },
  {
   "cell_type": "code",
   "execution_count": 44,
   "metadata": {
    "colab": {
     "base_uri": "https://localhost:8080/"
    },
    "id": "-3d0TC1QR6WT",
    "outputId": "d649d8cc-79f2-4d64-ee6f-6fd2fe612cd8"
   },
   "outputs": [
    {
     "name": "stdout",
     "output_type": "stream",
     "text": [
      "<model_prediction.CustomModelPrediction object at 0x7ff0486d9e90>\n",
      "<keras.engine.sequential.Sequential object at 0x7ff04f594bd0>\n",
      "<preprocess.TextPreprocessor object at 0x7ff04f5b9b50>\n"
     ]
    }
   ],
   "source": [
    "from model_prediction import CustomModelPrediction\n",
    "\n",
    "classifier = CustomModelPrediction.from_path('.')\n",
    "print(classifier)\n",
    "print(model)\n",
    "print(processor)"
   ]
  },
  {
   "cell_type": "code",
   "execution_count": 45,
   "metadata": {
    "id": "GN22HHvOR6WU"
   },
   "outputs": [],
   "source": [
    "results = classifier.predict(test_requests)"
   ]
  },
  {
   "cell_type": "code",
   "execution_count": 46,
   "metadata": {
    "colab": {
     "base_uri": "https://localhost:8080/"
    },
    "id": "Q6P3Ieb-R6WU",
    "outputId": "14381bc5-8efb-4d0e-ea45-e1ceda8a72f1"
   },
   "outputs": [
    {
     "data": {
      "text/plain": [
       "[0.9614534378051758,\n",
       " 3.75794525098172e-06,\n",
       " 0.002194911241531372,\n",
       " 0.0005911886692047119,\n",
       " 0.7085863351821899]"
      ]
     },
     "execution_count": 46,
     "metadata": {},
     "output_type": "execute_result"
    }
   ],
   "source": [
    "results[0]"
   ]
  },
  {
   "cell_type": "code",
   "execution_count": 47,
   "metadata": {
    "colab": {
     "base_uri": "https://localhost:8080/"
    },
    "id": "1P3Y8XoiR6WU",
    "outputId": "fcd54daf-2de2-4e99-ac89-eb9eae35b8a8"
   },
   "outputs": [
    {
     "data": {
      "text/plain": [
       "[4.6565291995648295e-05,\n",
       " 0.7481787204742432,\n",
       " 0.7220635414123535,\n",
       " 0.00103721022605896,\n",
       " 1.2635499842872377e-05]"
      ]
     },
     "execution_count": 47,
     "metadata": {},
     "output_type": "execute_result"
    }
   ],
   "source": [
    "results[1]"
   ]
  },
  {
   "cell_type": "code",
   "execution_count": 48,
   "metadata": {
    "colab": {
     "base_uri": "https://localhost:8080/"
    },
    "id": "DXZ96m7vR6WU",
    "outputId": "9ee19b06-9ed0-486e-e5a3-bcdb026a9929"
   },
   "outputs": [
    {
     "name": "stdout",
     "output_type": "stream",
     "text": [
      "Predicted labels for text-0:\n",
      "keras\n",
      "tensorflow\n",
      "\n",
      "\n",
      "Predicted labels for text-1:\n",
      "matplotlib\n",
      "pandas\n",
      "\n",
      "\n"
     ]
    }
   ],
   "source": [
    "for i in range(len(results)):\n",
    "  print('Predicted labels for text-{}:'.format(i))\n",
    "  for idx, val in enumerate(results[i]):\n",
    "    if val > 0.7:\n",
    "      print(tag_encoder.classes_[idx])\n",
    "  print('\\n')"
   ]
  },
  {
   "cell_type": "markdown",
   "metadata": {
    "id": "fmN-Qev8R6WU"
   },
   "source": [
    "## Package our model and deploy to AI Platform"
   ]
  },
  {
   "cell_type": "markdown",
   "metadata": {
    "id": "SJDEj6cRps8E"
   },
   "source": [
    "## GCP Configuration"
   ]
  },
  {
   "cell_type": "code",
   "execution_count": 49,
   "metadata": {
    "colab": {
     "base_uri": "https://localhost:8080/"
    },
    "id": "PBt9sVbTpHhi",
    "outputId": "0202ccb4-93da-4da2-8bb2-fa65a46d2548"
   },
   "outputs": [
    {
     "name": "stdout",
     "output_type": "stream",
     "text": [
      "Updated property [core/project].\n"
     ]
    }
   ],
   "source": [
    "!gcloud config set project itam-dpa-2022"
   ]
  },
  {
   "cell_type": "code",
   "execution_count": 50,
   "metadata": {
    "colab": {
     "base_uri": "https://localhost:8080/"
    },
    "id": "IWskGrlMszAe",
    "outputId": "4fa1f815-7873-4ec2-e995-7adb7281264d"
   },
   "outputs": [
    {
     "name": "stdout",
     "output_type": "stream",
     "text": [
      "Updated property [ai_platform/region].\n"
     ]
    }
   ],
   "source": [
    "!gcloud config set ai_platform/region global"
   ]
  },
  {
   "cell_type": "code",
   "execution_count": 52,
   "metadata": {
    "colab": {
     "base_uri": "https://localhost:8080/"
    },
    "id": "TsFNQKcDR6WV",
    "outputId": "1e0e0e3f-debe-4e86-97e9-d0ea7564d393"
   },
   "outputs": [
    {
     "name": "stdout",
     "output_type": "stream",
     "text": [
      "Copying file://keras_saved_model.h5 [Content-Type=application/x-hdf5]...\n",
      "/ [1 files][282.8 KiB/282.8 KiB]                                                \n",
      "Operation completed over 1 objects/282.8 KiB.                                    \n",
      "Copying file://processor_state.pkl [Content-Type=application/octet-stream]...\n",
      "- [1 files][ 32.0 MiB/ 32.0 MiB]                                                \n",
      "Operation completed over 1 objects/32.0 MiB.                                     \n"
     ]
    }
   ],
   "source": [
    "#Copying model and preprocessor to GCS Bucket\n",
    "\n",
    "!gsutil cp keras_saved_model.h5 gs://itam-dpa-2022-text-classifier/v1\n",
    "!gsutil cp processor_state.pkl gs://itam-dpa-2022-text-classifier/v1"
   ]
  },
  {
   "cell_type": "markdown",
   "metadata": {
    "id": "EszUXBo-R6WV"
   },
   "source": [
    "### Source Distribution (or “sdist”)\n",
    "A distribution format (usually generated using python setup.py sdist) that provides metadata and the essential source files needed for installing by a tool like pip, or for generating a Built Distribution. <br>\n",
    "A **source distribution**, or more commonly sdist, is a distribution that contains all of the python source code (i.e. .py files), any data files that the library requires, and a setup.py file which describes to the setuptools module how your python code should be packaged.\n"
   ]
  },
  {
   "cell_type": "code",
   "execution_count": 53,
   "metadata": {
    "colab": {
     "base_uri": "https://localhost:8080/"
    },
    "id": "vwQW8_1vpyUC",
    "outputId": "11dc9b2f-7849-4b09-b206-856b40281abb"
   },
   "outputs": [
    {
     "name": "stdout",
     "output_type": "stream",
     "text": [
      "Writing setup.py\n"
     ]
    }
   ],
   "source": [
    "%%writefile setup.py\n",
    "\n",
    "from setuptools import setup\n",
    "\n",
    "setup(\n",
    "  name=\"so_predict\",\n",
    "  version=\"0.1\",\n",
    "  include_package_data=True,\n",
    "  scripts=[\"preprocess.py\", \"model_prediction.py\"]\n",
    ")"
   ]
  },
  {
   "cell_type": "code",
   "execution_count": 54,
   "metadata": {
    "colab": {
     "base_uri": "https://localhost:8080/"
    },
    "id": "73S3-OQlR6WV",
    "outputId": "cbc92a9f-0e48-4dc2-bb1b-efe157774623"
   },
   "outputs": [
    {
     "name": "stdout",
     "output_type": "stream",
     "text": [
      "running sdist\n",
      "running egg_info\n",
      "creating so_predict.egg-info\n",
      "writing so_predict.egg-info/PKG-INFO\n",
      "writing dependency_links to so_predict.egg-info/dependency_links.txt\n",
      "writing top-level names to so_predict.egg-info/top_level.txt\n",
      "writing manifest file 'so_predict.egg-info/SOURCES.txt'\n",
      "reading manifest file 'so_predict.egg-info/SOURCES.txt'\n",
      "writing manifest file 'so_predict.egg-info/SOURCES.txt'\n",
      "warning: sdist: standard file not found: should have one of README, README.rst, README.txt, README.md\n",
      "\n",
      "running check\n",
      "warning: check: missing required meta-data: url\n",
      "\n",
      "warning: check: missing meta-data: either (author and author_email) or (maintainer and maintainer_email) must be supplied\n",
      "\n",
      "creating so_predict-0.1\n",
      "creating so_predict-0.1/so_predict.egg-info\n",
      "copying files to so_predict-0.1...\n",
      "copying model_prediction.py -> so_predict-0.1\n",
      "copying preprocess.py -> so_predict-0.1\n",
      "copying setup.py -> so_predict-0.1\n",
      "copying so_predict.egg-info/PKG-INFO -> so_predict-0.1/so_predict.egg-info\n",
      "copying so_predict.egg-info/SOURCES.txt -> so_predict-0.1/so_predict.egg-info\n",
      "copying so_predict.egg-info/dependency_links.txt -> so_predict-0.1/so_predict.egg-info\n",
      "copying so_predict.egg-info/top_level.txt -> so_predict-0.1/so_predict.egg-info\n",
      "Writing so_predict-0.1/setup.cfg\n",
      "creating dist\n",
      "Creating tar archive\n",
      "removing 'so_predict-0.1' (and everything under it)\n"
     ]
    }
   ],
   "source": [
    "!python setup.py sdist"
   ]
  },
  {
   "cell_type": "code",
   "execution_count": 55,
   "metadata": {},
   "outputs": [
    {
     "name": "stdout",
     "output_type": "stream",
     "text": [
      "Copying file://./dist/so_predict-0.1.tar.gz [Content-Type=application/x-tar]...\n",
      "/ [1 files][  1.3 KiB/  1.3 KiB]                                                \n",
      "Operation completed over 1 objects/1.3 KiB.                                      \n"
     ]
    }
   ],
   "source": [
    "!gsutil cp ./dist/so_predict-0.1.tar.gz gs://itam-dpa-2022-text-classifier/v1/packages/so_predict-0.1.tar.gz"
   ]
  },
  {
   "cell_type": "code",
   "execution_count": 57,
   "metadata": {
    "id": "SLJT74vMR6WW"
   },
   "outputs": [
    {
     "name": "stdout",
     "output_type": "stream",
     "text": [
      "/bin/bash: glcloud: command not found\n"
     ]
    }
   ],
   "source": [
    "# To configure and give access to the API\n",
    "#!glcloud init"
   ]
  },
  {
   "cell_type": "markdown",
   "metadata": {
    "id": "C8XjLdo7R6WW"
   },
   "source": [
    "To review details visit https://cloud.google.com/ai-platform/prediction/docs/deploying-models#gcloud"
   ]
  },
  {
   "cell_type": "markdown",
   "metadata": {
    "id": "BEGD38dPR6WX"
   },
   "source": [
    "https://cloud.google.com/ai-platform/prediction/docs/custom-prediction-routines"
   ]
  },
  {
   "cell_type": "code",
   "execution_count": 59,
   "metadata": {
    "colab": {
     "base_uri": "https://localhost:8080/"
    },
    "id": "DYmDAO6PrHTb",
    "outputId": "8001fc91-b266-4034-92f3-5ad10f240432"
   },
   "outputs": [
    {
     "name": "stdout",
     "output_type": "stream",
     "text": [
      "\u001b[1;33mWARNING:\u001b[0m To specify a region where the model will deployed on the global endpoint, please use `--regions` and do not specify `--region`. Using [us-central1] by default on https://ml.googleapis.com. Please note that your model will be inaccessible from https://us-central1-ml.googelapis.com\n",
      "\n",
      "Learn more about regional endpoints and see a list of available regions: https://cloud.google.com/ai-platform/prediction/docs/regional-endpoints\n",
      "Using endpoint [https://ml.googleapis.com/]\n",
      "Created ai platform model [projects/itam-dpa-2022/models/itam_dpa_2022_text_classifier].\n"
     ]
    }
   ],
   "source": [
    "!gcloud ai-platform models create itam_dpa_2022_text_classifier"
   ]
  },
  {
   "cell_type": "code",
   "execution_count": 60,
   "metadata": {
    "colab": {
     "base_uri": "https://localhost:8080/"
    },
    "id": "ytjsyYukudPg",
    "outputId": "eab7f050-d56f-4be6-8e16-f2bcedaf3c44"
   },
   "outputs": [
    {
     "name": "stdout",
     "output_type": "stream",
     "text": [
      "tensorflow @ file:///opt/conda/conda-bld/dlenv-tf-2-8-gpu_1643754343905/work/tensorflow-2.8.0-cp37-cp37m-linux_x86_64.whl\n",
      "tensorflow-cloud==0.1.16\n",
      "tensorflow-datasets==4.4.0\n",
      "tensorflow-estimator==2.8.0\n",
      "tensorflow-hub==0.12.0\n",
      "tensorflow-io==0.23.1\n",
      "tensorflow-io-gcs-filesystem==0.23.1\n",
      "tensorflow-metadata==1.6.0\n",
      "tensorflow-probability==0.14.1\n",
      "tensorflow-serving-api==2.7.0\n",
      "tensorflow-transform==1.6.0\n"
     ]
    }
   ],
   "source": [
    "!pip freeze | grep tensorflow"
   ]
  },
  {
   "cell_type": "markdown",
   "metadata": {
    "id": "lRMSYnuBvvZQ"
   },
   "source": [
    "https://cloud.google.com/ai-platform/prediction/docs/runtime-version-list"
   ]
  },
  {
   "cell_type": "code",
   "execution_count": 61,
   "metadata": {},
   "outputs": [
    {
     "name": "stdout",
     "output_type": "stream",
     "text": [
      "Python 3.7.12\n"
     ]
    }
   ],
   "source": [
    "!python --version"
   ]
  },
  {
   "cell_type": "code",
   "execution_count": 66,
   "metadata": {
    "colab": {
     "base_uri": "https://localhost:8080/"
    },
    "id": "ayGI1jIPR6WX",
    "outputId": "0a64e963-4544-436d-9248-af394fa04d3a"
   },
   "outputs": [
    {
     "name": "stdout",
     "output_type": "stream",
     "text": [
      "Using endpoint [https://ml.googleapis.com/]\n",
      "Creating version (this might take a few minutes)......done.                    \n"
     ]
    }
   ],
   "source": [
    "!gcloud beta ai-platform versions create v1 --model itam_dpa_2022_text_classifier --python-version 3.7 --runtime-version 2.7  --origin gs://itam-dpa-2022-text-classifier/v1/ --package-uris gs://itam-dpa-2022-text-classifier/v1/packages/so_predict-0.1.tar.gz --prediction-class model_prediction.CustomModelPrediction"
   ]
  },
  {
   "cell_type": "markdown",
   "metadata": {
    "id": "NrHG6eVoR6WX"
   },
   "source": [
    "# Generating predictions in our deployed trained model"
   ]
  },
  {
   "cell_type": "code",
   "execution_count": 67,
   "metadata": {
    "id": "VvmfIcOAR6WX"
   },
   "outputs": [],
   "source": [
    "# https://stackoverflow.com/questions/55517871/how-to-preprocess-strings-in-keras-models-lambda-layer\n",
    "# https://stackoverflow.com/questions/55508547/plot-histogram-for-feature-of-array-with-known-and-limited-values"
   ]
  },
  {
   "cell_type": "code",
   "execution_count": 68,
   "metadata": {
    "colab": {
     "base_uri": "https://localhost:8080/"
    },
    "id": "FCgK2z7JR6WX",
    "outputId": "14b1a576-cbc5-4390-d2f4-73d64758d814"
   },
   "outputs": [
    {
     "name": "stdout",
     "output_type": "stream",
     "text": [
      "Writing predictions.txt\n"
     ]
    }
   ],
   "source": [
    "%%writefile predictions.txt\n",
    "\"How to preprocess strings in Keras models Lambda layer? I have the problem that the value passed on to the Lambda layer (at compile time) is a placeholder generated by keras (without values). When the model is compiled, the .eval () method throws the error\"\n",
    "\"I have a test excel file like:df = pd.DataFrame({'name':list('abcdefg'), 'age':[10,20,5,23,58,4,6]})print (df)name  age0    a   101    b   202    c    53    d   234    e   585    f    46    g    6I use Pandas and matplotlib to read and plot it:import pandas as pdimport numpy as npimport matplotlib.pyplot as pltimport osexcel_file = 'test.xlsx'df = pd.read_excel(excel_file, sheet_name=0)df.plot(kind='bar')plt.show()the result shows: enter image description hereit use index number as item name, how can I change it to the name, which stored in column name?\""
   ]
  },
  {
   "cell_type": "code",
   "execution_count": 69,
   "metadata": {
    "id": "LkDyhA8vR6WY"
   },
   "outputs": [],
   "source": [
    "# Getting predictions for our model\n",
    "predictions = !gcloud ai-platform predict --model=itam_dpa_2022_text_classifier --version=v1 --text-instances=predictions.txt "
   ]
  },
  {
   "cell_type": "code",
   "execution_count": 70,
   "metadata": {
    "colab": {
     "base_uri": "https://localhost:8080/"
    },
    "id": "g_wdFe8MR6WY",
    "outputId": "f7152972-cc92-4386-9c0c-eb5ec456222c"
   },
   "outputs": [
    {
     "data": {
      "text/plain": [
       "['Using endpoint [https://ml.googleapis.com/]',\n",
       " '[[0.35895562171936035, 0.001184225082397461, 0.014009594917297363, 0.03241389989852905, 0.7719103097915649], [7.194868521764874e-05, 0.7333732843399048, 0.7804746627807617, 0.0009480714797973633, 2.0992163626942784e-05]]']"
      ]
     },
     "execution_count": 70,
     "metadata": {},
     "output_type": "execute_result"
    }
   ],
   "source": [
    "predictions"
   ]
  },
  {
   "cell_type": "code",
   "execution_count": 71,
   "metadata": {
    "colab": {
     "base_uri": "https://localhost:8080/"
    },
    "id": "xMCYdyhWR6WY",
    "outputId": "582a9a28-4c96-40fd-b286-8faa5ee704bc"
   },
   "outputs": [
    {
     "name": "stdout",
     "output_type": "stream",
     "text": [
      "[0.35895562171936035, 0.001184225082397461, 0.014009594917297363, 0.03241389989852905, 0.7719103097915649]\n",
      "tensorflow\n",
      "\n",
      "\n",
      "[7.194868521764874e-05, 0.7333732843399048, 0.7804746627807617, 0.0009480714797973633, 2.0992163626942784e-05]\n",
      "matplotlib\n",
      "pandas\n",
      "\n",
      "\n"
     ]
    }
   ],
   "source": [
    "for sigmoid_arr in eval(predictions[1]):\n",
    "  print(sigmoid_arr)\n",
    "  for idx,probability in enumerate(sigmoid_arr):\n",
    "    if probability > 0.7:\n",
    "      print(tag_encoder.classes_[idx])\n",
    "  print('\\n')"
   ]
  },
  {
   "cell_type": "code",
   "execution_count": 72,
   "metadata": {
    "colab": {
     "base_uri": "https://localhost:8080/"
    },
    "id": "cTiiRLbVR6WY",
    "outputId": "f96c6459-f498-4088-b6ad-ebc70203ad4f"
   },
   "outputs": [
    {
     "name": "stdout",
     "output_type": "stream",
     "text": [
      "['keras' 'matplotlib' 'pandas' 'scikitlearn' 'tensorflow'] \n",
      "\n",
      "[0.35895562171936035, 0.001184225082397461, 0.014009594917297363, 0.03241389989852905, 0.7719103097915649]\n",
      "tensorflow\n",
      "\n",
      "\n",
      "[7.194868521764874e-05, 0.7333732843399048, 0.7804746627807617, 0.0009480714797973633, 2.0992163626942784e-05]\n",
      "matplotlib\n",
      "pandas\n",
      "\n",
      "\n"
     ]
    }
   ],
   "source": [
    "print(tag_encoder.classes_, '\\n')\n",
    "\n",
    "for sigmoid_arr in eval(predictions[1]):\n",
    "  print(sigmoid_arr)\n",
    "  for idx,probability in enumerate(sigmoid_arr):\n",
    "    if probability > 0.7:\n",
    "      print(tag_encoder.classes_[idx])\n",
    "  print('\\n')"
   ]
  }
 ],
 "metadata": {
  "colab": {
   "name": "text-classifier.ipynb",
   "provenance": []
  },
  "environment": {
   "kernel": "python3",
   "name": "managed-notebooks.m90",
   "type": "gcloud",
   "uri": "gcr.io/deeplearning-platform-release/tf2-gpu:latest"
  },
  "kernelspec": {
   "display_name": "Python 3 (ipykernel)",
   "language": "python",
   "name": "python3"
  },
  "language_info": {
   "codemirror_mode": {
    "name": "ipython",
    "version": 3
   },
   "file_extension": ".py",
   "mimetype": "text/x-python",
   "name": "python",
   "nbconvert_exporter": "python",
   "pygments_lexer": "ipython3",
   "version": "3.9.5"
  }
 },
 "nbformat": 4,
 "nbformat_minor": 4
}
